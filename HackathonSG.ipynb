{
  "nbformat": 4,
  "nbformat_minor": 0,
  "metadata": {
    "colab": {
      "provenance": []
    },
    "kernelspec": {
      "name": "python3",
      "display_name": "Python 3"
    },
    "language_info": {
      "name": "python"
    }
  },
  "cells": [
    {
      "cell_type": "code",
      "execution_count": null,
      "metadata": {
        "colab": {
          "base_uri": "https://localhost:8080/"
        },
        "id": "vIkIh8vhEzKS",
        "outputId": "6716525c-2064-479a-c4c9-539964900db5"
      },
      "outputs": [
        {
          "output_type": "stream",
          "name": "stderr",
          "text": [
            "<frozen posixpath>:82: RuntimeWarning: coroutine 'Server.serve' was never awaited\n",
            "RuntimeWarning: Enable tracemalloc to get the object allocation traceback\n"
          ]
        },
        {
          "output_type": "stream",
          "name": "stdout",
          "text": [
            "🚀 Ton API est disponible ici : https://persons-pretechnically-beau.ngrok-free.dev/open_prices?symbol=AAPL&start=2024-01-01&end=2024-02-01\n"
          ]
        },
        {
          "output_type": "stream",
          "name": "stderr",
          "text": [
            "INFO:     Started server process [622]\n",
            "INFO:     Waiting for application startup.\n",
            "INFO:     Application startup complete.\n",
            "INFO:     Uvicorn running on http://0.0.0.0:8000 (Press CTRL+C to quit)\n"
          ]
        },
        {
          "output_type": "stream",
          "name": "stdout",
          "text": [
            "INFO:     193.54.195.236:0 - \"GET /open_prices?symbol=AAPL&start=2024-01-01&end=2024-02-01 HTTP/1.1\" 307 Temporary Redirect\n"
          ]
        },
        {
          "output_type": "stream",
          "name": "stderr",
          "text": [
            "/tmp/ipython-input-1092823193.py:28: FutureWarning: YF.download() has changed argument auto_adjust default to True\n",
            "  data = yf.download(symbol, start=start, end=end)\n",
            "[*********************100%***********************]  1 of 1 completed"
          ]
        },
        {
          "output_type": "stream",
          "name": "stdout",
          "text": [
            "INFO:     193.54.195.236:0 - \"GET /open_prices/?symbol=AAPL&start=2024-01-01&end=2024-02-01 HTTP/1.1\" 200 OK\n"
          ]
        },
        {
          "output_type": "stream",
          "name": "stderr",
          "text": [
            "\n",
            "/tmp/ipython-input-1092823193.py:32: FutureWarning: Calling float on a single element Series is deprecated and will raise a TypeError in the future. Use float(ser.iloc[0]) instead\n",
            "  {\"date\": str(date.date()), \"open_price\": round(float(row[\"Open\"]), 2)}\n",
            "INFO:     Shutting down\n",
            "INFO:     Waiting for application shutdown.\n",
            "INFO:     Application shutdown complete.\n",
            "INFO:     Finished server process [622]\n"
          ]
        }
      ],
      "source": [
        "!pip install fastapi uvicorn yfinance nest_asyncio pyngrok --quiet\n",
        "\n",
        "from fastapi import FastAPI, HTTPException\n",
        "import yfinance as yf\n",
        "import nest_asyncio\n",
        "from pyngrok import ngrok, conf\n",
        "import uvicorn\n",
        "import pandas as pd\n",
        "import asyncio\n",
        "\n",
        "# 🔑 Mets ici ton authtoken ngrok (copie-le depuis https://dashboard.ngrok.com/get-started/your-authtoken)\n",
        "conf.get_default().auth_token = \"348k9xobGsbjedye1zkYDKjhlc5_7kVCF53MZBfHrbrh9Bvxj\"\n",
        "\n",
        "# --- Création de l'application ---\n",
        "app = FastAPI(\n",
        "    title=\"Yahoo Finance API\",\n",
        "    description=\"API pour récupérer les prix d'ouverture d'une action entre deux dates via Yahoo Finance\",\n",
        "    version=\"1.3.0\"\n",
        ")\n",
        "\n",
        "@app.get(\"/open_prices/\")\n",
        "def get_open_prices(symbol: str, start: str, end: str):\n",
        "    \"\"\"\n",
        "    Récupère les prix d'ouverture quotidiens entre deux dates.\n",
        "    Exemple : /open_prices?symbol=AAPL&start=2024-01-01&end=2024-02-01\n",
        "    \"\"\"\n",
        "    try:\n",
        "        data = yf.download(symbol, start=start, end=end)\n",
        "        if data.empty:\n",
        "            raise HTTPException(status_code=404, detail=f\"Aucune donnée trouvée pour {symbol} entre {start} et {end}.\")\n",
        "        results = [\n",
        "            {\"date\": str(date.date()), \"open_price\": round(float(row[\"Open\"]), 2)}\n",
        "            for date, row in data.iterrows()\n",
        "        ]\n",
        "        return {\n",
        "            \"symbol\": symbol.upper(),\n",
        "            \"start_date\": start,\n",
        "            \"end_date\": end,\n",
        "            \"open_prices\": results\n",
        "        }\n",
        "    except Exception as e:\n",
        "        raise HTTPException(status_code=500, detail=str(e))\n",
        "\n",
        "\n",
        "# --- Démarrage correct du serveur dans Colab ---\n",
        "nest_asyncio.apply()\n",
        "\n",
        "# Ouvre un tunnel public via ngrok\n",
        "public_url = ngrok.connect(8000)\n",
        "print(f\"🚀 Ton API est disponible ici : {public_url.public_url}/open_prices?symbol=AAPL&start=2024-01-01&end=2024-02-01\")\n",
        "\n",
        "# Démarre uvicorn de manière asynchrone (compatible Colab)\n",
        "config = uvicorn.Config(app, host=\"0.0.0.0\", port=8000, log_level=\"info\")\n",
        "server = uvicorn.Server(config)\n",
        "\n",
        "await server.serve()  # ✅ cette ligne fonctionne dans Colab sans RuntimeError"
      ]
    },
    {
      "cell_type": "code",
      "source": [
        "!pip install yfinance gradio pandas --quiet\n",
        "\n",
        "import yfinance as yf\n",
        "import gradio as gr\n",
        "import pandas as pd\n",
        "import json\n",
        "from datetime import date\n",
        "from google.colab import files\n",
        "\n",
        "# --- Liste des symboles CAC40 (Yahoo Finance) ---\n",
        "cac40_symbols = {\n",
        "    \"Air Liquide\": \"AI.PA\",\n",
        "    \"Airbus\": \"AIR.PA\",\n",
        "    \"ArcelorMittal\": \"MT.AS\",\n",
        "    \"AXA\": \"CS.PA\",\n",
        "    \"BNP Paribas\": \"BNP.PA\",\n",
        "    \"Bouygues\": \"EN.PA\",\n",
        "    \"Capgemini\": \"CAP.PA\",\n",
        "    \"Carrefour\": \"CA.PA\",\n",
        "    \"Crédit Agricole\": \"ACA.PA\",\n",
        "    \"Danone\": \"BN.PA\",\n",
        "    \"Dassault Systèmes\": \"DSY.PA\",\n",
        "    \"Engie\": \"ENGI.PA\",\n",
        "    \"EssilorLuxottica\": \"EL.PA\",\n",
        "    \"Eurofins Scientific\": \"ERF.PA\",\n",
        "    \"Hermès\": \"RMS.PA\",\n",
        "    \"Kering\": \"KER.PA\",\n",
        "    \"Legrand\": \"LR.PA\",\n",
        "    \"L'Oréal\": \"OR.PA\",\n",
        "    \"LVMH\": \"MC.PA\",\n",
        "    \"Michelin\": \"ML.PA\",\n",
        "    \"Orange\": \"ORA.PA\",\n",
        "    \"Pernod Ricard\": \"RI.PA\",\n",
        "    \"Renault\": \"RNO.PA\",\n",
        "    \"Safran\": \"SAF.PA\",\n",
        "    \"Saint-Gobain\": \"SGO.PA\",\n",
        "    \"Sanofi\": \"SAN.PA\",\n",
        "    \"Schneider Electric\": \"SU.PA\",\n",
        "    \"Société Générale\": \"GLE.PA\",\n",
        "    \"STMicroelectronics\": \"STM.PA\",\n",
        "    \"Teleperformance\": \"TEP.PA\",\n",
        "    \"Thales\": \"HO.PA\",\n",
        "    \"TotalEnergies\": \"TTE.PA\",\n",
        "    \"Unibail-Rodamco-Westfield\": \"URW.AS\",\n",
        "    \"Veolia\": \"VIE.PA\",\n",
        "    \"Vinci\": \"DG.PA\",\n",
        "    \"Vivendi\": \"VIV.PA\"\n",
        "}\n",
        "\n",
        "# --- Fonction pour récupérer les prix d'ouverture et créer JSON ---\n",
        "def get_open_prices_json_download(stock_name, start, end):\n",
        "    symbol = cac40_symbols.get(stock_name)\n",
        "    if not symbol:\n",
        "        return {\"error\": \"Action non trouvée\"}\n",
        "\n",
        "    try:\n",
        "        data = yf.download(symbol, start=start, end=end)\n",
        "        if data.empty:\n",
        "            return {\"error\": \"Aucune donnée trouvée pour cette période\"}\n",
        "\n",
        "        results = [{\"date\": str(date.date()), \"open_price\": round(float(row[\"Open\"]), 2)}\n",
        "                   for date, row in data.iterrows()]\n",
        "\n",
        "        json_result = {\n",
        "            \"symbol\": stock_name,\n",
        "            \"start_date\": start,\n",
        "            \"end_date\": end,\n",
        "            \"open_prices\": results\n",
        "        }\n",
        "\n",
        "        # Enregistrer le JSON dans un fichier\n",
        "        filename = f\"{stock_name}_open_prices.json\"\n",
        "        with open(filename, \"w\") as f:\n",
        "            json.dump(json_result, f, indent=4)\n",
        "\n",
        "        # Préparer le téléchargement\n",
        "        files.download(filename)\n",
        "\n",
        "        return json_result\n",
        "\n",
        "    except Exception as e:\n",
        "        return {\"error\": str(e)}\n",
        "\n",
        "# --- Interface Gradio ---\n",
        "interface = gr.Interface(\n",
        "    fn=get_open_prices_json_download,\n",
        "    inputs=[\n",
        "        gr.Dropdown(label=\"Choisissez une action du CAC40\", choices=list(cac40_symbols.keys()), value=\"LVMH\"),\n",
        "        gr.Textbox(label=\"Date de début (AAAA-MM-JJ)\", value=\"2024-01-01\"),\n",
        "        gr.Textbox(label=\"Date de fin (AAAA-MM-JJ)\", value=\"2024-01-10\")\n",
        "    ],\n",
        "    outputs=gr.JSON(label=\"Prix d'ouverture JSON\"),\n",
        "    title=\"💹 Prix d'ouverture - Actions du CAC40 (JSON + téléchargement)\",\n",
        "    description=\"Sélectionnez une action et une période pour obtenir les prix d'ouverture quotidiens et télécharger le JSON.\"\n",
        ")\n",
        "\n",
        "# Lancer l'interface\n",
        "interface.launch(share=True)"
      ],
      "metadata": {
        "colab": {
          "base_uri": "https://localhost:8080/",
          "height": 593
        },
        "id": "IzUigcbBIZpo",
        "outputId": "f9300708-3e8b-4042-82d8-aa96714bd912"
      },
      "execution_count": null,
      "outputs": [
        {
          "output_type": "stream",
          "name": "stdout",
          "text": [
            "Colab notebook detected. To show errors in colab notebook, set debug=True in launch()\n",
            "* Running on public URL: https://67a7f0b12058d9db3d.gradio.live\n",
            "\n",
            "This share link expires in 1 week. For free permanent hosting and GPU upgrades, run `gradio deploy` from the terminal in the working directory to deploy to Hugging Face Spaces (https://huggingface.co/spaces)\n"
          ]
        },
        {
          "output_type": "display_data",
          "data": {
            "text/plain": [
              "<IPython.core.display.HTML object>"
            ],
            "text/html": [
              "<div><iframe src=\"https://67a7f0b12058d9db3d.gradio.live\" width=\"100%\" height=\"500\" allow=\"autoplay; camera; microphone; clipboard-read; clipboard-write;\" frameborder=\"0\" allowfullscreen></iframe></div>"
            ]
          },
          "metadata": {}
        },
        {
          "output_type": "execute_result",
          "data": {
            "text/plain": []
          },
          "metadata": {},
          "execution_count": 8
        }
      ]
    },
    {
      "cell_type": "code",
      "source": [
        "import yfinance as yf\n",
        "import pandas as pd\n",
        "import sqlite3\n",
        "from datetime import datetime\n",
        "\n",
        "# Liste des symboles du CAC40 (sans doublons)\n",
        "cac40_symbols = [\n",
        "    \"AI.PA\", \"AIR.PA\", \"MT.AS\", \"CS.PA\", \"BNP.PA\", \"EN.PA\", \"CAP.PA\",\n",
        "    \"CA.PA\", \"ACA.PA\", \"BN.PA\", \"DSY.PA\", \"ENGI.PA\", \"EL.PA\", \"ERF.PA\",\n",
        "    \"RMS.PA\", \"KER.PA\", \"LR.PA\", \"OR.PA\", \"MC.PA\", \"ML.PA\", \"ORA.PA\",\n",
        "    \"RI.PA\", \"RNO.PA\", \"SAF.PA\", \"SGO.PA\", \"STLAM.MI\", \"STMPA.PA\", \"SU.PA\",\n",
        "    \"GLE.PA\", \"VIE.PA\", \"VIV.PA\", \"HO.PA\", \"SAN.PA\", \"STM.PA\", \"DG.PA\", \"UG.PA\"\n",
        "]\n",
        "\n",
        "# Supprimer les doublons éventuels\n",
        "cac40_symbols = list(set(cac40_symbols))\n",
        "\n",
        "# Connexion à la base SQLite (création si inexistante)\n",
        "conn = sqlite3.connect(\"cac40_open_prices.db\")\n",
        "cursor = conn.cursor()\n",
        "\n",
        "# Création de la table avec PRIMARY KEY(date, symbol)\n",
        "cursor.execute(\"\"\"\n",
        "CREATE TABLE IF NOT EXISTS cac40_open_prices (\n",
        "    date TEXT,\n",
        "    symbol TEXT,\n",
        "    open_price REAL,\n",
        "    PRIMARY KEY(date, symbol)\n",
        ")\n",
        "\"\"\")\n",
        "conn.commit()\n",
        "\n",
        "# Définir la période\n",
        "start_date = datetime(2020, 1, 1)\n",
        "end_date = datetime.today()\n",
        "\n",
        "# Boucle pour récupérer et insérer les données\n",
        "for symbol in cac40_symbols:\n",
        "    print(f\"Récupération de {symbol} ...\")\n",
        "    try:\n",
        "        df = yf.download(symbol, start=start_date.strftime(\"%Y-%m-%d\"), end=end_date.strftime(\"%Y-%m-%d\"), auto_adjust=True)\n",
        "\n",
        "        if df.empty:\n",
        "            print(f\"  Pas de données pour {symbol} (peut-être délisté).\")\n",
        "            continue\n",
        "\n",
        "        df.reset_index(inplace=True)\n",
        "        df_to_insert = df[['Date', 'Open']].copy()\n",
        "        df_to_insert['Symbol'] = symbol\n",
        "        df_to_insert.columns = ['date', 'open_price', 'symbol']\n",
        "\n",
        "        # Insérer en ignorant les doublons (SQLite PRIMARY KEY)\n",
        "        df_to_insert.to_sql('cac40_open_prices', conn, if_exists='append', index=False)\n",
        "        print(f\"  {len(df_to_insert)} lignes ajoutées.\")\n",
        "\n",
        "    except Exception as e:\n",
        "        print(f\"  Erreur pour {symbol}: {e}\")\n",
        "\n",
        "# Fermer la connexion\n",
        "conn.close()\n",
        "print(\"Terminé !\")"
      ],
      "metadata": {
        "colab": {
          "base_uri": "https://localhost:8080/"
        },
        "id": "RuCmN2MTODKo",
        "outputId": "3b434f4c-c14a-4929-cef6-f875dce3dda1"
      },
      "execution_count": 16,
      "outputs": [
        {
          "output_type": "stream",
          "name": "stderr",
          "text": [
            "[*********************100%***********************]  1 of 1 completed\n",
            "[*********************100%***********************]  1 of 1 completed\n",
            "[*********************100%***********************]  1 of 1 completed"
          ]
        },
        {
          "output_type": "stream",
          "name": "stdout",
          "text": [
            "Récupération de STLAM.MI ...\n",
            "  1475 lignes ajoutées.\n",
            "Récupération de AI.PA ...\n",
            "  1485 lignes ajoutées.\n",
            "Récupération de ML.PA ...\n"
          ]
        },
        {
          "output_type": "stream",
          "name": "stderr",
          "text": [
            "\n",
            "[*********************100%***********************]  1 of 1 completed\n",
            "[*********************100%***********************]  1 of 1 completed\n",
            "[*********************100%***********************]  1 of 1 completed"
          ]
        },
        {
          "output_type": "stream",
          "name": "stdout",
          "text": [
            "  1485 lignes ajoutées.\n",
            "Récupération de SU.PA ...\n",
            "  1485 lignes ajoutées.\n",
            "Récupération de HO.PA ...\n",
            "  1485 lignes ajoutées.\n",
            "Récupération de ACA.PA ...\n"
          ]
        },
        {
          "output_type": "stream",
          "name": "stderr",
          "text": [
            "\n",
            "[*********************100%***********************]  1 of 1 completed\n",
            "[*********************100%***********************]  1 of 1 completed\n",
            "[*********************100%***********************]  1 of 1 completed"
          ]
        },
        {
          "output_type": "stream",
          "name": "stdout",
          "text": [
            "  1485 lignes ajoutées.\n",
            "Récupération de ORA.PA ...\n",
            "  1485 lignes ajoutées.\n",
            "Récupération de CA.PA ...\n",
            "  1485 lignes ajoutées.\n",
            "Récupération de VIV.PA ...\n"
          ]
        },
        {
          "output_type": "stream",
          "name": "stderr",
          "text": [
            "\n",
            "[*********************100%***********************]  1 of 1 completed\n",
            "[*********************100%***********************]  1 of 1 completed\n",
            "[*********************100%***********************]  1 of 1 completed"
          ]
        },
        {
          "output_type": "stream",
          "name": "stdout",
          "text": [
            "  1485 lignes ajoutées.\n",
            "Récupération de SAF.PA ...\n",
            "  1485 lignes ajoutées.\n",
            "Récupération de RMS.PA ...\n",
            "  1485 lignes ajoutées.\n",
            "Récupération de OR.PA ...\n"
          ]
        },
        {
          "output_type": "stream",
          "name": "stderr",
          "text": [
            "\n",
            "[*********************100%***********************]  1 of 1 completed\n",
            "[*********************100%***********************]  1 of 1 completed\n",
            "[*********************100%***********************]  1 of 1 completed"
          ]
        },
        {
          "output_type": "stream",
          "name": "stdout",
          "text": [
            "  1485 lignes ajoutées.\n",
            "Récupération de CS.PA ...\n",
            "  1485 lignes ajoutées.\n",
            "Récupération de ENGI.PA ...\n",
            "  1485 lignes ajoutées.\n",
            "Récupération de SGO.PA ...\n"
          ]
        },
        {
          "output_type": "stream",
          "name": "stderr",
          "text": [
            "\n",
            "[*********************100%***********************]  1 of 1 completed\n",
            "[*********************100%***********************]  1 of 1 completed\n",
            "[*********************100%***********************]  1 of 1 completed"
          ]
        },
        {
          "output_type": "stream",
          "name": "stdout",
          "text": [
            "  1485 lignes ajoutées.\n",
            "Récupération de AIR.PA ...\n",
            "  1485 lignes ajoutées.\n",
            "Récupération de RNO.PA ...\n",
            "  1485 lignes ajoutées.\n",
            "Récupération de STMPA.PA ...\n"
          ]
        },
        {
          "output_type": "stream",
          "name": "stderr",
          "text": [
            "\n",
            "[*********************100%***********************]  1 of 1 completed\n",
            "[*********************100%***********************]  1 of 1 completed\n",
            "ERROR:yfinance:\n",
            "1 Failed download:\n",
            "ERROR:yfinance:['STM.PA']: YFTzMissingError('possibly delisted; no timezone found')\n",
            "[*********************100%***********************]  1 of 1 completed\n"
          ]
        },
        {
          "output_type": "stream",
          "name": "stdout",
          "text": [
            "  1485 lignes ajoutées.\n",
            "Récupération de ERF.PA ...\n",
            "  1485 lignes ajoutées.\n",
            "Récupération de STM.PA ...\n",
            "  Pas de données pour STM.PA (peut-être délisté).\n",
            "Récupération de VIE.PA ...\n",
            "  1485 lignes ajoutées.\n",
            "Récupération de MT.AS ...\n"
          ]
        },
        {
          "output_type": "stream",
          "name": "stderr",
          "text": [
            "[*********************100%***********************]  1 of 1 completed\n",
            "[*********************100%***********************]  1 of 1 completed\n",
            "[*********************100%***********************]  1 of 1 completed\n",
            "[*********************100%***********************]  1 of 1 completed"
          ]
        },
        {
          "output_type": "stream",
          "name": "stdout",
          "text": [
            "  1485 lignes ajoutées.\n",
            "Récupération de BN.PA ...\n",
            "  1485 lignes ajoutées.\n",
            "Récupération de RI.PA ...\n",
            "  1485 lignes ajoutées.\n",
            "Récupération de BNP.PA ...\n"
          ]
        },
        {
          "output_type": "stream",
          "name": "stderr",
          "text": [
            "\n",
            "[*********************100%***********************]  1 of 1 completed\n",
            "ERROR:yfinance:\n",
            "1 Failed download:\n",
            "ERROR:yfinance:['UG.PA']: YFTzMissingError('possibly delisted; no timezone found')\n",
            "[*********************100%***********************]  1 of 1 completed\n",
            "[*********************100%***********************]  1 of 1 completed\n"
          ]
        },
        {
          "output_type": "stream",
          "name": "stdout",
          "text": [
            "  1485 lignes ajoutées.\n",
            "Récupération de UG.PA ...\n",
            "  Pas de données pour UG.PA (peut-être délisté).\n",
            "Récupération de GLE.PA ...\n",
            "  1485 lignes ajoutées.\n",
            "Récupération de SAN.PA ...\n"
          ]
        },
        {
          "output_type": "stream",
          "name": "stderr",
          "text": [
            "[*********************100%***********************]  1 of 1 completed\n",
            "[*********************100%***********************]  1 of 1 completed"
          ]
        },
        {
          "output_type": "stream",
          "name": "stdout",
          "text": [
            "  1485 lignes ajoutées.\n",
            "Récupération de KER.PA ...\n",
            "  1485 lignes ajoutées.\n",
            "Récupération de CAP.PA ...\n"
          ]
        },
        {
          "output_type": "stream",
          "name": "stderr",
          "text": [
            "\n",
            "[*********************100%***********************]  1 of 1 completed\n",
            "[*********************100%***********************]  1 of 1 completed"
          ]
        },
        {
          "output_type": "stream",
          "name": "stdout",
          "text": [
            "  1485 lignes ajoutées.\n",
            "Récupération de MC.PA ...\n",
            "  1485 lignes ajoutées.\n",
            "Récupération de LR.PA ...\n"
          ]
        },
        {
          "output_type": "stream",
          "name": "stderr",
          "text": [
            "\n",
            "[*********************100%***********************]  1 of 1 completed\n",
            "[*********************100%***********************]  1 of 1 completed"
          ]
        },
        {
          "output_type": "stream",
          "name": "stdout",
          "text": [
            "  1485 lignes ajoutées.\n",
            "Récupération de EN.PA ...\n",
            "  1485 lignes ajoutées.\n",
            "Récupération de DG.PA ...\n"
          ]
        },
        {
          "output_type": "stream",
          "name": "stderr",
          "text": [
            "\n",
            "[*********************100%***********************]  1 of 1 completed\n"
          ]
        },
        {
          "output_type": "stream",
          "name": "stdout",
          "text": [
            "  1485 lignes ajoutées.\n",
            "Récupération de DSY.PA ...\n",
            "  1485 lignes ajoutées.\n",
            "Récupération de EL.PA ...\n"
          ]
        },
        {
          "output_type": "stream",
          "name": "stderr",
          "text": [
            "\r[*********************100%***********************]  1 of 1 completed"
          ]
        },
        {
          "output_type": "stream",
          "name": "stdout",
          "text": [
            "  1485 lignes ajoutées.\n",
            "Terminé !\n"
          ]
        },
        {
          "output_type": "stream",
          "name": "stderr",
          "text": [
            "\n"
          ]
        }
      ]
    },
    {
      "cell_type": "code",
      "source": [
        "import sqlite3\n",
        "import pandas as pd\n",
        "\n",
        "# --- Paramètres ---\n",
        "db_path = \"/content/cac40_open_prices.db\"  # chemin de ta base\n",
        "symbol_to_check = \"MC.PA\"                  # ticker de l'action, ex: LVMH\n",
        "start_date = \"2025-10-12\"                  # date de début\n",
        "end_date = \"2025-10-15\"                    # date de fin\n",
        "\n",
        "# --- Connexion à la base ---\n",
        "conn = sqlite3.connect(db_path)\n",
        "\n",
        "# --- Requête SQL ---\n",
        "query = f\"\"\"\n",
        "SELECT date, open_price\n",
        "FROM cac40_open_prices\n",
        "WHERE symbol = '{symbol_to_check}'\n",
        "  AND date BETWEEN '{start_date}' AND '{end_date}'\n",
        "ORDER BY date ASC\n",
        "\"\"\"\n",
        "\n",
        "# --- Exécution et affichage ---\n",
        "df = pd.read_sql(query, conn)\n",
        "print(df)\n",
        "\n",
        "# --- Fermer la connexion ---\n",
        "conn.close()"
      ],
      "metadata": {
        "colab": {
          "base_uri": "https://localhost:8080/"
        },
        "id": "578UCq4xPhhi",
        "outputId": "949c75a2-b00a-43c4-d4b3-28374cb0bf18"
      },
      "execution_count": 22,
      "outputs": [
        {
          "output_type": "stream",
          "name": "stdout",
          "text": [
            "                  date  open_price\n",
            "0  2025-10-13 00:00:00  548.200012\n",
            "1  2025-10-14 00:00:00  534.000000\n"
          ]
        }
      ]
    }
  ]
}